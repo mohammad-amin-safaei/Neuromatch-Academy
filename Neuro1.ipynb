{
 "cells": [
  {
   "cell_type": "code",
   "execution_count": 75,
   "metadata": {},
   "outputs": [],
   "source": [
    "import os\n",
    "import numpy as np\n",
    "import pandas as pd\n",
    "import seaborn as sns\n",
    "import matplotlib.pyplot as plt\n",
    "from scipy.stats import ttest_rel\n",
    "from statsmodels.stats.multitest import multipletests"
   ]
  },
  {
   "cell_type": "code",
   "execution_count": 3,
   "metadata": {},
   "outputs": [],
   "source": [
    "N_SUBJECTS = 100  #This is the number of participants\n",
    "\n",
    "N_PARCELS = 360   #This is the number of regions \n",
    "\n",
    "TR = 0.72  # Time resolution, in seconds\n",
    "\n",
    "HEMIS = [\"Right\", \"Left\"]\n",
    "\n",
    "RUNS   = ['LR','RL']  #A list to access Left to Right data or Right to Left\n",
    "N_RUNS = 2 #or len(RUNS)\n",
    "\n",
    "EXPERIMENTS = {\n",
    "    'MOTOR'      : {'cond':['lf','rf','lh','rh','t','cue']},\n",
    "    'WM'         : {'cond':['0bk_body','0bk_faces','0bk_places','0bk_tools','2bk_body','2bk_faces','2bk_places','2bk_tools']},\n",
    "    'EMOTION'    : {'cond':['fear','neut']},\n",
    "    'GAMBLING'   : {'cond':['loss','win']},\n",
    "    'LANGUAGE'   : {'cond':['math','story']},\n",
    "    'RELATIONAL' : {'cond':['match','relation']},\n",
    "    'SOCIAL'     : {'cond':['ment','rnd']}\n",
    "}  # The values that we might need to access for our data path"
   ]
  },
  {
   "cell_type": "code",
   "execution_count": 71,
   "metadata": {},
   "outputs": [],
   "source": [
    "subjects_ids = np.loadtxt(os.path.join(r'C:\\Users\\Asus\\Desktop\\Neuroscience Project\\Neuromatch\\hcp_task\\subjects_list.txt'), dtype='str')\n"
   ]
  },
  {
   "cell_type": "code",
   "execution_count": 5,
   "metadata": {},
   "outputs": [],
   "source": [
    "def load_single_timeseries(subject, experiment, run, remove_mean=True):\n",
    "  \"\"\"Load timeseries data for a single subject and single run.\n",
    "\n",
    "  Args:\n",
    "    subject (str):      subject ID to load\n",
    "    experiment (str):   Name of experiment\n",
    "    run (int):          (0 or 1)\n",
    "    remove_mean (bool): If True, subtract the parcel-wise mean (typically the mean BOLD signal is not of interest)\n",
    "\n",
    "  Returns\n",
    "    ts (n_parcel x n_timepoint array): Array of BOLD data values\n",
    "\n",
    "  \"\"\"\n",
    "  HCP_DIR=r'C:\\Users\\Asus\\Desktop\\Neuroscience Project\\Neuromatch\\hcp_task'\n",
    "  bold_run  = RUNS[run]\n",
    "  bold_path = f\"{HCP_DIR}/subjects/{subject}/{experiment}/tfMRI_{experiment}_{bold_run}\"\n",
    "  bold_file = \"data.npy\"\n",
    "  ts = np.load(f\"{bold_path}/{bold_file}\")\n",
    "  if remove_mean:\n",
    "    ts -= ts.mean(axis=1, keepdims=True)\n",
    "  return ts"
   ]
  },
  {
   "cell_type": "code",
   "execution_count": 69,
   "metadata": {},
   "outputs": [],
   "source": [
    "sub_data=load_single_timeseries('100307','GAMBLING',0,remove_mean=False)\n"
   ]
  },
  {
   "cell_type": "code",
   "execution_count": 7,
   "metadata": {},
   "outputs": [],
   "source": [
    "def add_consecutive_numbers(original_list): \n",
    "\n",
    "  expanded_list = []\n",
    "  for num in original_list:\n",
    "    expanded_list.append(num)\n",
    "    for i in range(1, 5):\n",
    "      expanded_list.append(num + i)\n",
    "  return expanded_list\n",
    "#----------------------------------------------------------------------\n",
    "\n",
    "def loss_idx(id,HCP_DIR):\n",
    "    loss_path=f\"{HCP_DIR}/subjects//{id}/GAMBLING/tfMRI_GAMBLING_LR/EVs/loss_event.txt\"\n",
    "    loss=np.loadtxt(loss_path)\n",
    "    idx_list=[]\n",
    "    for i in loss[:,0]:\n",
    "        idx_list.append(round(i/0.72))\n",
    "    return add_consecutive_numbers(idx_list)\n",
    "#----------------------------------------------------------------------\n",
    "\n",
    "def win_idx(id,HCP_DIR):\n",
    "    win_path=loss_path=f\"{HCP_DIR}/subjects//{id}/GAMBLING/tfMRI_GAMBLING_LR/EVs/win_event.txt\"\n",
    "    win=np.loadtxt(win_path)\n",
    "    idx_list=[]\n",
    "    for i in win[:,0]:\n",
    "        idx_list.append(round(i/0.72))\n",
    "    return add_consecutive_numbers(idx_list)\n",
    "    "
   ]
  },
  {
   "cell_type": "code",
   "execution_count": 52,
   "metadata": {},
   "outputs": [],
   "source": [
    "regions_abbrevations_idx={'L_POS1': 210,\n",
    " 'R_POS1': 30,\n",
    " 'L_POS2': 194,\n",
    " 'R_POS2': 14,\n",
    " 'L_H': 299,\n",
    " 'R_H': 119,\n",
    " 'L_IPS1': 196,\n",
    " 'R_IPS1': 16,\n",
    " 'L_a32pr': 358,\n",
    " 'R_a32pr': 178,\n",
    " 'L_a24pr': 238,\n",
    " 'R_a24pr': 58,\n",
    " 'L_33pr': 237,\n",
    " 'R_33pr': 57,\n",
    " 'L_OFC': 272,\n",
    " 'R_OFC': 92,\n",
    " 'L_47s': 273,\n",
    " 'R_47s': 93,\n",
    " 'L_47m': 245,\n",
    " 'R_47m': 65,\n",
    " 'L_a10p': 268,\n",
    " 'R_a10p': 88,\n",
    " 'L_p10p': 349,\n",
    " 'R_p10p': 169,\n",
    " 'L_10d': 251,\n",
    " 'R_10d': 71,\n",
    " 'L_10pp': 269,\n",
    " 'R_10pp': 89,\n",
    " 'L_11l': 270,\n",
    " 'R_11l': 90,\n",
    " 'L_23d': 211,\n",
    " 'R_23d': 31,\n",
    " 'L_31a': 341,\n",
    " 'R_31a': 161,\n",
    " 'L_31pd': 340,\n",
    " 'R_31pd': 160,\n",
    " 'L_31pv': 214,\n",
    " 'R_31pv': 34,\n",
    " 'L_PCV': 206,\n",
    " 'R_PCV': 26,\n",
    " 'L_MI': 288,\n",
    " 'R_MI': 108,\n",
    " 'L_Ig': 347,\n",
    " 'R_Ig': 167,\n",
    " 'L_PI': 357,\n",
    " 'R_PI': 177,\n",
    " 'L_44': 253,\n",
    " 'R_44': 73,\n",
    " 'L_45': 254,\n",
    " 'R_45': 74,\n",
    " 'L_47l': 255,\n",
    " 'R_47l': 75,\n",
    " 'L_a47r': 256,\n",
    " 'R_a47r': 76,\n",
    " 'L_p47r': 350,\n",
    " 'R_p47r': 170,\n",
    " 'L_46': 263,\n",
    " 'R_46': 83,\n",
    " 'L_TGd': 310,\n",
    " 'R_TGd': 130,\n",
    " 'L_TGv': 351,\n",
    " 'R_TGv': 171,\n",
    " 'L_V2': 183,\n",
    " 'R_V2': 3,\n",
    " 'L_V3': 184,\n",
    " 'R_V3': 4,\n",
    " 'L_PGi': 329,\n",
    " 'R_PGi': 149,\n",
    " 'L_PGp': 322,\n",
    " 'R_PGp': 142,\n",
    " 'L_PGs': 330,\n",
    " 'R_PGs': 150}\n",
    "regions_idx=list(regions_abbrevations_idx.values())\n",
    "\n",
    "\n"
   ]
  },
  {
   "cell_type": "code",
   "execution_count": 53,
   "metadata": {},
   "outputs": [],
   "source": [
    "regions_idx.sort()"
   ]
  },
  {
   "cell_type": "code",
   "execution_count": 57,
   "metadata": {},
   "outputs": [],
   "source": [
    "mean_win_data=np.zeros((72,100))\n",
    "mean_loss_data=np.zeros((72,100))"
   ]
  },
  {
   "cell_type": "code",
   "execution_count": 64,
   "metadata": {},
   "outputs": [],
   "source": [
    "HCP_DIR=r'C:\\Users\\Asus\\Desktop\\Neuroscience Project\\Neuromatch\\hcp_task'"
   ]
  },
  {
   "cell_type": "code",
   "execution_count": null,
   "metadata": {},
   "outputs": [],
   "source": [
    "for idi,id in enumerate(subjects_ids):\n",
    "    data=load_single_timeseries(id,'GAMBLING',0,remove_mean=False)\n",
    "    win_idx_list=win_idx(id,HCP_DIR)\n",
    "    loss_idx_list=-loss_idx(id,HCP_DIR)\n",
    "    for roii,roi in enumerate(regions_idx):\n",
    "        arr=data[roi,:]\n",
    "        result_win=[arr[i] for i in win_idx_list]\n",
    "        result_loss=[arr[i] for i in loss_idx_list]\n",
    "        mean_win_data[roii,idi]=np.mean(np.array(result_win))\n",
    "        mean_loss_data[roii,idi]=np.mean(np.array(result_loss))\n",
    "    \n",
    "    "
   ]
  },
  {
   "cell_type": "code",
   "execution_count": 73,
   "metadata": {},
   "outputs": [],
   "source": [
    "p_values = np.zeros(72)"
   ]
  },
  {
   "cell_type": "code",
   "execution_count": null,
   "metadata": {},
   "outputs": [],
   "source": [
    "for region in range(72):\n",
    "    t_stat, p_val = ttest_rel(mean_win_data[region], mean_loss_data[region])\n",
    "    p_values[region] = p_val\n"
   ]
  },
  {
   "cell_type": "code",
   "execution_count": null,
   "metadata": {},
   "outputs": [],
   "source": [
    "reject, pvals_corrected, _, _ = multipletests(p_values, method='fdr_bh')"
   ]
  },
  {
   "cell_type": "code",
   "execution_count": null,
   "metadata": {},
   "outputs": [],
   "source": [
    "significant_regions_corrected = np.where(reject)[0]"
   ]
  },
  {
   "cell_type": "code",
   "execution_count": null,
   "metadata": {},
   "outputs": [],
   "source": [
    "print(f\"Significant brain regions after correction: {significant_regions_corrected}\")\n",
    "print(f\"Corrected P-values: {pvals_corrected}\")"
   ]
  }
 ],
 "metadata": {
  "kernelspec": {
   "display_name": "Python 3",
   "language": "python",
   "name": "python3"
  },
  "language_info": {
   "codemirror_mode": {
    "name": "ipython",
    "version": 3
   },
   "file_extension": ".py",
   "mimetype": "text/x-python",
   "name": "python",
   "nbconvert_exporter": "python",
   "pygments_lexer": "ipython3",
   "version": "3.11.7"
  }
 },
 "nbformat": 4,
 "nbformat_minor": 2
}
